{
 "cells": [
  {
   "cell_type": "code",
   "execution_count": 1,
   "id": "e789f171",
   "metadata": {},
   "outputs": [],
   "source": [
    "import pandas as pd, datetime, urllib.request, json\n",
    "from tkinter import Tk, ttk, StringVar, messagebox\n",
    "from tkcalendar import DateEntry\n",
    "from datetime import datetime, date"
   ]
  },
  {
   "cell_type": "code",
   "execution_count": 2,
   "id": "c083509d",
   "metadata": {},
   "outputs": [],
   "source": [
    "def GUI(START_DATE = datetime(1995, 1, 1), END_DATE = datetime.now(), PERIOD = 'DAY'):\n",
    "    window = Tk()\n",
    "    window.title('Giant Steps Internship Test')\n",
    "    window.resizable(False, False)\n",
    "    window.eval('tk::PlaceWindow . center')\n",
    "    window.call('wm', 'attributes', '.', '-topmost', True)\n",
    "    \n",
    "    START_DATE_FINAL, END_DATE_FINAL, PERIOD_FINAL = START_DATE, END_DATE, PERIOD\n",
    "    save_csv, save_xlsx = False, False\n",
    "    \n",
    "    START_DATE_ENTRY = DateEntry(justify = 'center', mindate=START_DATE)\n",
    "    START_DATE_ENTRY.set_date('1/1/1995')\n",
    "    START_DATE_LABEL = ttk.Label(text = 'Insert the start date:', justify = 'center')\n",
    "    \n",
    "    END_DATE_ENTRY = DateEntry(justify = 'center', maxdate=END_DATE)\n",
    "    END_DATE_ENTRY.set_date(END_DATE.strftime(\"%d/%m/%Y\"))\n",
    "    END_DATE_LABEL = ttk.Label(text = 'Insert the end date:', justify = 'center')\n",
    "    \n",
    "    PERIOD_VAR = StringVar(window)\n",
    "    PERIOD_VAR.set(PERIOD)\n",
    "    PERIOD_LABEL = ttk.Label(text = 'Select the frequency:', justify = 'center')\n",
    "    period_list = ['DAY', 'MONTH', 'YEAR']\n",
    "    PERIOD_ENTRY = ttk.OptionMenu(window, PERIOD_VAR, PERIOD, *period_list)\n",
    "    \n",
    "    def date_check():\n",
    "        if START_DATE_ENTRY.get() > END_DATE_ENTRY.get():\n",
    "            messagebox.showerror(\"Error\", \"Selected date must not exceed current date\")\n",
    "            END_DATE_ENTRY.set_date(END_DATE)\n",
    "        window.after(100, date_check)\n",
    "    \n",
    "    def isClickedFunction():\n",
    "        nonlocal START_DATE_FINAL, END_DATE_FINAL, PERIOD_FINAL\n",
    "        \n",
    "        START_DATE_FINAL = START_DATE_ENTRY.get()\n",
    "        END_DATE_FINAL = END_DATE_ENTRY.get()\n",
    "        PERIOD_FINAL = PERIOD_VAR.get()\n",
    "    \n",
    "        window.destroy()\n",
    "    \n",
    "    def save_csvfunc():\n",
    "        nonlocal save_csv\n",
    "        save_csv = True\n",
    "        \n",
    "    def save_xlsxfunc():\n",
    "        nonlocal save_xlsx\n",
    "        save_xlsx = True\n",
    "    \n",
    "    BUTTON = ttk.Button(text = 'Search', command = isClickedFunction)\n",
    "    \n",
    "    save_csv_var = StringVar(value=0)\n",
    "    save_xlsx_var = StringVar(value=0)\n",
    "    \n",
    "    save_csv = ttk.Checkbutton(window, text='Save .csv file', command=save_csvfunc, variable=save_csv_var)\n",
    "    save_xlsx = ttk.Checkbutton(window, text='Save .xlsx file', command=save_xlsxfunc, variable=save_xlsx_var)\n",
    " \n",
    "    START_DATE_LABEL.grid(row=2, column=0, pady=10)\n",
    "    START_DATE_ENTRY.grid(row=3, column=0, padx=25)\n",
    "    \n",
    "    END_DATE_LABEL.grid(row=2, column=2, pady=10)\n",
    "    END_DATE_ENTRY.grid(row=3, column=2, padx=25)\n",
    "    \n",
    "    PERIOD_LABEL.grid(row=2, column=1, pady=10)\n",
    "    PERIOD_ENTRY.grid(row=3, column=1, padx=25)\n",
    "    \n",
    "    BUTTON.grid(row=4, column=1, pady=15)\n",
    "    \n",
    "    save_csv.grid(row=4, column=0, pady=15)\n",
    "    save_xlsx.grid(row=4, column=2, pady=15)\n",
    "    \n",
    "    window.after(100, date_check)\n",
    "    window.mainloop()\n",
    "    \n",
    "    return START_DATE_FINAL, END_DATE_FINAL, PERIOD_FINAL, save_csv, save_xlsx"
   ]
  },
  {
   "cell_type": "code",
   "execution_count": 3,
   "id": "374c15ab",
   "metadata": {},
   "outputs": [],
   "source": [
    "START_DATE_FINAL, END_DATE_FINAL, PERIOD_FINAL, save_csv, save_xlsx = GUI()\n",
    "\n",
    "initial_day = START_DATE_FINAL.split('/')[0]\n",
    "initial_month = START_DATE_FINAL.split('/')[1]\n",
    "initial_year = START_DATE_FINAL.split('/')[2]\n",
    "\n",
    "final_day = END_DATE_FINAL.split('/')[0]\n",
    "final_month = END_DATE_FINAL.split('/')[1]\n",
    "final_year = END_DATE_FINAL.split('/')[2]"
   ]
  },
  {
   "cell_type": "code",
   "execution_count": 4,
   "id": "ea18e057",
   "metadata": {},
   "outputs": [],
   "source": [
    "selic_rates_base_url = r'https://api.bcb.gov.br/dados/serie/bcdata.sgs.11/dados?formato=json&dataInicial=dd/mm/yy&dataFinal=dd/mm/yy'\n",
    "selic_rates_url = f'https://api.bcb.gov.br/dados/serie/bcdata.sgs.11/dados?formato=json&dataInicial={initial_day}/{initial_month}/{initial_year}&dataFinal={final_day}/{final_month}/{final_year}'\n",
    "\n",
    "with urllib.request.urlopen(selic_rates_url) as url:\n",
    "    data = json.loads(url.read().decode())\n",
    "    selic_rates = pd.DataFrame(data)"
   ]
  },
  {
   "cell_type": "code",
   "execution_count": 5,
   "id": "ab424bab",
   "metadata": {},
   "outputs": [
    {
     "data": {
      "text/html": [
       "<div>\n",
       "<style scoped>\n",
       "    .dataframe tbody tr th:only-of-type {\n",
       "        vertical-align: middle;\n",
       "    }\n",
       "\n",
       "    .dataframe tbody tr th {\n",
       "        vertical-align: top;\n",
       "    }\n",
       "\n",
       "    .dataframe thead th {\n",
       "        text-align: right;\n",
       "    }\n",
       "</style>\n",
       "<table border=\"1\" class=\"dataframe\">\n",
       "  <thead>\n",
       "    <tr style=\"text-align: right;\">\n",
       "      <th></th>\n",
       "      <th>data</th>\n",
       "      <th>valor</th>\n",
       "    </tr>\n",
       "  </thead>\n",
       "  <tbody>\n",
       "    <tr>\n",
       "      <th>0</th>\n",
       "      <td>07/03/2019</td>\n",
       "      <td>0.024620</td>\n",
       "    </tr>\n",
       "    <tr>\n",
       "      <th>1</th>\n",
       "      <td>31/12/2019</td>\n",
       "      <td>0.017089</td>\n",
       "    </tr>\n",
       "  </tbody>\n",
       "</table>\n",
       "</div>"
      ],
      "text/plain": [
       "         data     valor\n",
       "0  07/03/2019  0.024620\n",
       "1  31/12/2019  0.017089"
      ]
     },
     "execution_count": 5,
     "metadata": {},
     "output_type": "execute_result"
    }
   ],
   "source": [
    "selic_rates"
   ]
  }
 ],
 "metadata": {
  "interpreter": {
   "hash": "443ecfbbf6f5b590e4a35c68331b0f71502fa93c65db7a2ae2fc0dc5d3fbd10d"
  },
  "kernelspec": {
   "display_name": "Python 3.9.6 64-bit",
   "language": "python",
   "name": "python3"
  },
  "language_info": {
   "codemirror_mode": {
    "name": "ipython",
    "version": 3
   },
   "file_extension": ".py",
   "mimetype": "text/x-python",
   "name": "python",
   "nbconvert_exporter": "python",
   "pygments_lexer": "ipython3",
   "version": "3.9.6"
  }
 },
 "nbformat": 4,
 "nbformat_minor": 5
}
