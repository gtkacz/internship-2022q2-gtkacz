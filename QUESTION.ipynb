{
 "cells": [
  {
   "cell_type": "markdown",
   "metadata": {},
   "source": [
    "<div>\n",
    "    <img src=\"img/AF-logotiposecundario-GiantSteps-positivo-2.png\" width=\"250px\">\n",
    "</div>\n",
    "\n",
    "<h2>The Question:</h2>\n",
    "<span>What was the most profitable period of 500 calendar days since 2000-01-01 until 2022-03-31? That is, if you had to invest C amount of capital for 500 days, what would have been the most profitable period from the beginning of 2000 until the end of March/2022?</span>"
   ]
  },
  {
   "cell_type": "markdown",
   "metadata": {},
   "source": [
    "<h2>The Answer:</h2>"
   ]
  },
  {
   "cell_type": "code",
   "execution_count": 8,
   "metadata": {},
   "outputs": [],
   "source": [
    "import pandas as pd, urllib.request, json, warnings\n",
    "\n",
    "warnings.filterwarnings('ignore')\n",
    "std_date_format = '%d/%m/%Y'\n",
    "profit_period = 500"
   ]
  },
  {
   "cell_type": "code",
   "execution_count": 9,
   "metadata": {},
   "outputs": [],
   "source": [
    "START_DATE_FINAL = '01/01/2000'\n",
    "END_DATE_FINAL = '31/03/2021'\n",
    "\n",
    "initial_day = START_DATE_FINAL.split('/')[0]\n",
    "initial_month = START_DATE_FINAL.split('/')[1]\n",
    "initial_year = START_DATE_FINAL.split('/')[2]\n",
    "\n",
    "final_day = END_DATE_FINAL.split('/')[0]\n",
    "final_month = END_DATE_FINAL.split('/')[1]\n",
    "final_year = END_DATE_FINAL.split('/')[2]"
   ]
  },
  {
   "cell_type": "code",
   "execution_count": 10,
   "metadata": {},
   "outputs": [],
   "source": [
    "selic_rates_url = f'https://api.bcb.gov.br/dados/serie/bcdata.sgs.11/dados?formato=json&dataInicial={initial_day}/{initial_month}/{initial_year}&dataFinal={final_day}/{final_month}/{final_year}'\n",
    "\n",
    "with urllib.request.urlopen(selic_rates_url) as url:\n",
    "    data = json.loads(url.read().decode())\n",
    "    selic_rates = pd.DataFrame(data)\n",
    "\n",
    "selic_rates['data'] = pd.to_datetime(selic_rates['data'], format=std_date_format, dayfirst=True)\n",
    "selic_rates = selic_rates.loc[(selic_rates['data'].between(START_DATE_FINAL, END_DATE_FINAL))]\n",
    "selic_rates.style.format({'data': lambda t: t.strftime(std_date_format)})\n",
    "selic_rates['valor'] = pd.to_numeric(selic_rates['valor'])\n",
    "selic_rates['valor_ajustado'] = selic_rates['valor']/100"
   ]
  },
  {
   "cell_type": "code",
   "execution_count": 11,
   "metadata": {},
   "outputs": [],
   "source": [
    "sum_df = selic_rates['valor_ajustado'].rolling(profit_period).sum()\n",
    "idxmax = sum_df.idxmax()"
   ]
  },
  {
   "cell_type": "code",
   "execution_count": 12,
   "metadata": {},
   "outputs": [
    {
     "data": {
      "text/html": [
       "<div>\n",
       "<style scoped>\n",
       "    .dataframe tbody tr th:only-of-type {\n",
       "        vertical-align: middle;\n",
       "    }\n",
       "\n",
       "    .dataframe tbody tr th {\n",
       "        vertical-align: top;\n",
       "    }\n",
       "\n",
       "    .dataframe thead th {\n",
       "        text-align: right;\n",
       "    }\n",
       "</style>\n",
       "<table border=\"1\" class=\"dataframe\">\n",
       "  <thead>\n",
       "    <tr style=\"text-align: right;\">\n",
       "      <th></th>\n",
       "      <th>data</th>\n",
       "      <th>valor</th>\n",
       "      <th>valor_ajustado</th>\n",
       "    </tr>\n",
       "  </thead>\n",
       "  <tbody>\n",
       "    <tr>\n",
       "      <th>458</th>\n",
       "      <td>2001-10-29</td>\n",
       "      <td>0.069220</td>\n",
       "      <td>0.000692</td>\n",
       "    </tr>\n",
       "    <tr>\n",
       "      <th>459</th>\n",
       "      <td>2001-10-30</td>\n",
       "      <td>0.069220</td>\n",
       "      <td>0.000692</td>\n",
       "    </tr>\n",
       "    <tr>\n",
       "      <th>460</th>\n",
       "      <td>2001-10-31</td>\n",
       "      <td>0.069220</td>\n",
       "      <td>0.000692</td>\n",
       "    </tr>\n",
       "    <tr>\n",
       "      <th>461</th>\n",
       "      <td>2001-11-01</td>\n",
       "      <td>0.069220</td>\n",
       "      <td>0.000692</td>\n",
       "    </tr>\n",
       "    <tr>\n",
       "      <th>462</th>\n",
       "      <td>2001-11-05</td>\n",
       "      <td>0.069220</td>\n",
       "      <td>0.000692</td>\n",
       "    </tr>\n",
       "    <tr>\n",
       "      <th>...</th>\n",
       "      <td>...</td>\n",
       "      <td>...</td>\n",
       "      <td>...</td>\n",
       "    </tr>\n",
       "    <tr>\n",
       "      <th>953</th>\n",
       "      <td>2003-10-16</td>\n",
       "      <td>0.071846</td>\n",
       "      <td>0.000718</td>\n",
       "    </tr>\n",
       "    <tr>\n",
       "      <th>954</th>\n",
       "      <td>2003-10-17</td>\n",
       "      <td>0.071846</td>\n",
       "      <td>0.000718</td>\n",
       "    </tr>\n",
       "    <tr>\n",
       "      <th>955</th>\n",
       "      <td>2003-10-20</td>\n",
       "      <td>0.071846</td>\n",
       "      <td>0.000718</td>\n",
       "    </tr>\n",
       "    <tr>\n",
       "      <th>956</th>\n",
       "      <td>2003-10-21</td>\n",
       "      <td>0.071846</td>\n",
       "      <td>0.000718</td>\n",
       "    </tr>\n",
       "    <tr>\n",
       "      <th>957</th>\n",
       "      <td>2003-10-22</td>\n",
       "      <td>0.071813</td>\n",
       "      <td>0.000718</td>\n",
       "    </tr>\n",
       "  </tbody>\n",
       "</table>\n",
       "<p>500 rows × 3 columns</p>\n",
       "</div>"
      ],
      "text/plain": [
       "          data     valor  valor_ajustado\n",
       "458 2001-10-29  0.069220        0.000692\n",
       "459 2001-10-30  0.069220        0.000692\n",
       "460 2001-10-31  0.069220        0.000692\n",
       "461 2001-11-01  0.069220        0.000692\n",
       "462 2001-11-05  0.069220        0.000692\n",
       "..         ...       ...             ...\n",
       "953 2003-10-16  0.071846        0.000718\n",
       "954 2003-10-17  0.071846        0.000718\n",
       "955 2003-10-20  0.071846        0.000718\n",
       "956 2003-10-21  0.071846        0.000718\n",
       "957 2003-10-22  0.071813        0.000718\n",
       "\n",
       "[500 rows x 3 columns]"
      ]
     },
     "execution_count": 12,
     "metadata": {},
     "output_type": "execute_result"
    }
   ],
   "source": [
    "best_period = selic_rates[selic_rates.index.isin(range((idxmax - 499), (idxmax + 1)))]\n",
    "best_period"
   ]
  },
  {
   "cell_type": "code",
   "execution_count": 13,
   "metadata": {},
   "outputs": [],
   "source": [
    "initial_best_date = best_period['data'].dt.strftime(std_date_format).values[0]\n",
    "final_best_date = best_period['data'].dt.strftime(std_date_format).values[-1]\n",
    "\n",
    "rates_list = best_period['valor_ajustado'].tolist()\n",
    "total_rate = 1\n",
    "\n",
    "for r in rates_list:\n",
    "    total_rate *= (1 + r)\n",
    "    \n",
    "increase = round(((total_rate - 1) * 100), 2)"
   ]
  },
  {
   "cell_type": "code",
   "execution_count": 14,
   "metadata": {},
   "outputs": [
    {
     "name": "stdout",
     "output_type": "stream",
     "text": [
      "The most profitable period of 500 calendar days between 01/01/2000 and 31/03/2021 was between 29/10/2001 and 22/10/2003, where an investment would have yielded an increase of approximately 46.7%.\n"
     ]
    }
   ],
   "source": [
    "print(f'The most profitable period of {profit_period} calendar days between {START_DATE_FINAL} and {END_DATE_FINAL} was between {initial_best_date} and {final_best_date}, where an investment would have yielded an increase of approximately {increase}%.')"
   ]
  }
 ],
 "metadata": {
  "kernelspec": {
   "display_name": "Python 3.9.6 64-bit",
   "language": "python",
   "name": "python3"
  },
  "language_info": {
   "codemirror_mode": {
    "name": "ipython",
    "version": 3
   },
   "file_extension": ".py",
   "mimetype": "text/x-python",
   "name": "python",
   "nbconvert_exporter": "python",
   "pygments_lexer": "ipython3",
   "version": "3.9.6"
  },
  "orig_nbformat": 4,
  "vscode": {
   "interpreter": {
    "hash": "443ecfbbf6f5b590e4a35c68331b0f71502fa93c65db7a2ae2fc0dc5d3fbd10d"
   }
  }
 },
 "nbformat": 4,
 "nbformat_minor": 2
}
