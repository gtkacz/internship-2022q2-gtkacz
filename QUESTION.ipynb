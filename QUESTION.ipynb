{
 "cells": [
  {
   "cell_type": "code",
   "execution_count": 37,
   "metadata": {},
   "outputs": [],
   "source": [
    "import pandas as pd, urllib.request, json\n",
    "from datetime import datetime\n",
    "\n",
    "std_date_format = \"%d/%m/%Y\""
   ]
  },
  {
   "cell_type": "code",
   "execution_count": 38,
   "metadata": {},
   "outputs": [],
   "source": [
    "START_DATE_FINAL = '01/01/2000'\n",
    "END_DATE_FINAL = '31/03/2021'\n",
    "\n",
    "initial_day = START_DATE_FINAL.split('/')[0]\n",
    "initial_month = START_DATE_FINAL.split('/')[1]\n",
    "initial_year = START_DATE_FINAL.split('/')[2]\n",
    "\n",
    "final_day = END_DATE_FINAL.split('/')[0]\n",
    "final_month = END_DATE_FINAL.split('/')[1]\n",
    "final_year = END_DATE_FINAL.split('/')[2]"
   ]
  },
  {
   "cell_type": "code",
   "execution_count": 39,
   "metadata": {},
   "outputs": [
    {
     "name": "stderr",
     "output_type": "stream",
     "text": [
      "c:\\Users\\Teka\\AppData\\Local\\Programs\\Python\\Python39\\lib\\site-packages\\pandas\\core\\arraylike.py:52: UserWarning: Parsing '31/03/2021' in DD/MM/YYYY format. Provide format or specify infer_datetime_format=True for consistent parsing.\n",
      "  return self._cmp_method(other, operator.le)\n"
     ]
    }
   ],
   "source": [
    "\n",
    "selic_rates_url = f'https://api.bcb.gov.br/dados/serie/bcdata.sgs.11/dados?formato=json&dataInicial={initial_day}/{initial_month}/{initial_year}&dataFinal={final_day}/{final_month}/{final_year}'\n",
    "\n",
    "with urllib.request.urlopen(selic_rates_url) as url:\n",
    "    data = json.loads(url.read().decode())\n",
    "    selic_rates = pd.DataFrame(data)\n",
    "\n",
    "selic_rates['data'] = pd.to_datetime(selic_rates['data'], format=std_date_format)\n",
    "selic_rates = selic_rates.loc[(selic_rates['data'].between(START_DATE_FINAL, END_DATE_FINAL))]\n",
    "selic_rates['valor'] = pd.to_numeric(selic_rates['valor'])"
   ]
  },
  {
   "cell_type": "code",
   "execution_count": 40,
   "metadata": {},
   "outputs": [],
   "source": [
    "sum_df = selic_rates['valor'].rolling(500).sum()\n",
    "idxmax = sum_df.idxmax()"
   ]
  },
  {
   "cell_type": "code",
   "execution_count": 41,
   "metadata": {},
   "outputs": [
    {
     "data": {
      "text/html": [
       "<div>\n",
       "<style scoped>\n",
       "    .dataframe tbody tr th:only-of-type {\n",
       "        vertical-align: middle;\n",
       "    }\n",
       "\n",
       "    .dataframe tbody tr th {\n",
       "        vertical-align: top;\n",
       "    }\n",
       "\n",
       "    .dataframe thead th {\n",
       "        text-align: right;\n",
       "    }\n",
       "</style>\n",
       "<table border=\"1\" class=\"dataframe\">\n",
       "  <thead>\n",
       "    <tr style=\"text-align: right;\">\n",
       "      <th></th>\n",
       "      <th>data</th>\n",
       "      <th>valor</th>\n",
       "    </tr>\n",
       "  </thead>\n",
       "  <tbody>\n",
       "    <tr>\n",
       "      <th>957</th>\n",
       "      <td>2003-10-22</td>\n",
       "      <td>0.071813</td>\n",
       "    </tr>\n",
       "    <tr>\n",
       "      <th>958</th>\n",
       "      <td>2003-10-23</td>\n",
       "      <td>0.068552</td>\n",
       "    </tr>\n",
       "    <tr>\n",
       "      <th>959</th>\n",
       "      <td>2003-10-24</td>\n",
       "      <td>0.068552</td>\n",
       "    </tr>\n",
       "    <tr>\n",
       "      <th>960</th>\n",
       "      <td>2003-10-27</td>\n",
       "      <td>0.068552</td>\n",
       "    </tr>\n",
       "    <tr>\n",
       "      <th>961</th>\n",
       "      <td>2003-10-28</td>\n",
       "      <td>0.068552</td>\n",
       "    </tr>\n",
       "    <tr>\n",
       "      <th>...</th>\n",
       "      <td>...</td>\n",
       "      <td>...</td>\n",
       "    </tr>\n",
       "    <tr>\n",
       "      <th>1453</th>\n",
       "      <td>2005-10-10</td>\n",
       "      <td>0.070552</td>\n",
       "    </tr>\n",
       "    <tr>\n",
       "      <th>1454</th>\n",
       "      <td>2005-10-11</td>\n",
       "      <td>0.070552</td>\n",
       "    </tr>\n",
       "    <tr>\n",
       "      <th>1455</th>\n",
       "      <td>2005-10-13</td>\n",
       "      <td>0.070552</td>\n",
       "    </tr>\n",
       "    <tr>\n",
       "      <th>1456</th>\n",
       "      <td>2005-10-14</td>\n",
       "      <td>0.070552</td>\n",
       "    </tr>\n",
       "    <tr>\n",
       "      <th>1457</th>\n",
       "      <td>2005-10-17</td>\n",
       "      <td>0.070552</td>\n",
       "    </tr>\n",
       "  </tbody>\n",
       "</table>\n",
       "<p>501 rows × 2 columns</p>\n",
       "</div>"
      ],
      "text/plain": [
       "           data     valor\n",
       "957  2003-10-22  0.071813\n",
       "958  2003-10-23  0.068552\n",
       "959  2003-10-24  0.068552\n",
       "960  2003-10-27  0.068552\n",
       "961  2003-10-28  0.068552\n",
       "...         ...       ...\n",
       "1453 2005-10-10  0.070552\n",
       "1454 2005-10-11  0.070552\n",
       "1455 2005-10-13  0.070552\n",
       "1456 2005-10-14  0.070552\n",
       "1457 2005-10-17  0.070552\n",
       "\n",
       "[501 rows x 2 columns]"
      ]
     },
     "execution_count": 41,
     "metadata": {},
     "output_type": "execute_result"
    }
   ],
   "source": [
    "best_period = selic_rates[selic_rates.index.isin(range(idxmax, idxmax + 501))]\n",
    "best_period"
   ]
  },
  {
   "cell_type": "code",
   "execution_count": 42,
   "metadata": {},
   "outputs": [
    {
     "name": "stdout",
     "output_type": "stream",
     "text": [
      "36387732955249.01\n"
     ]
    }
   ],
   "source": [
    "initial_best_date = best_period['data'].dt.strftime(std_date_format).values[0]\n",
    "final_best_date = best_period['data'].dt.strftime(std_date_format).values[-1]\n",
    "\n",
    "rates_list = best_period['valor'].tolist()\n",
    "total_rate = 1\n",
    "\n",
    "for r in rates_list:\n",
    "    total_rate *= (1 + r)\n",
    "    \n",
    "print(total_rate)"
   ]
  }
 ],
 "metadata": {
  "kernelspec": {
   "display_name": "Python 3.9.6 64-bit",
   "language": "python",
   "name": "python3"
  },
  "language_info": {
   "codemirror_mode": {
    "name": "ipython",
    "version": 3
   },
   "file_extension": ".py",
   "mimetype": "text/x-python",
   "name": "python",
   "nbconvert_exporter": "python",
   "pygments_lexer": "ipython3",
   "version": "3.9.6"
  },
  "orig_nbformat": 4,
  "vscode": {
   "interpreter": {
    "hash": "443ecfbbf6f5b590e4a35c68331b0f71502fa93c65db7a2ae2fc0dc5d3fbd10d"
   }
  }
 },
 "nbformat": 4,
 "nbformat_minor": 2
}
